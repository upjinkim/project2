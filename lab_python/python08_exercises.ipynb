{
  "nbformat": 4,
  "nbformat_minor": 0,
  "metadata": {
    "colab": {
      "provenance": [],
      "include_colab_link": true
    },
    "kernelspec": {
      "name": "python3",
      "display_name": "Python 3"
    },
    "language_info": {
      "name": "python"
    }
  },
  "cells": [
    {
      "cell_type": "markdown",
      "metadata": {
        "id": "view-in-github",
        "colab_type": "text"
      },
      "source": [
        "<a href=\"https://colab.research.google.com/github/upjinkim/project2/blob/master/lab_python/python08_exercises.ipynb\" target=\"_parent\"><img src=\"https://colab.research.google.com/assets/colab-badge.svg\" alt=\"Open In Colab\"/></a>"
      ]
    },
    {
      "cell_type": "code",
      "execution_count": 51,
      "metadata": {
        "id": "7VlwnJiM-3I4"
      },
      "outputs": [],
      "source": [
        "import random  # 난수 생성을 위한 모듈(random.random(), random.randrange(), ...)\n",
        "import math  # 수학 함수를 사용하기 위한 모듈(math.sqrt(), ...)\n",
        "import numpy as np"
      ]
    },
    {
      "cell_type": "markdown",
      "source": [
        "# Ex 1.\n",
        "\n",
        "`fruits = ('apple', 'banana', 'cherry', 'durian', 'watermellon')`\n",
        "\n",
        "튜플 fruits에 저장된 문자열의 길이들을 저장하는 리스트를 만드로 출력하세요."
      ],
      "metadata": {
        "id": "zF88-07M_IcO"
      }
    },
    {
      "cell_type": "code",
      "source": [
        "fruits = ('apple', 'banana', 'cherry', 'durian', 'watermellon')\n",
        "for i in fruits:\n",
        "    print(len(i), end = '\\t')"
      ],
      "metadata": {
        "id": "BVwx_f8FG_Me",
        "outputId": "4dfbb4f5-b457-4e30-9d8f-9729a7f85c19",
        "colab": {
          "base_uri": "https://localhost:8080/"
        }
      },
      "execution_count": 3,
      "outputs": [
        {
          "output_type": "stream",
          "name": "stdout",
          "text": [
            "5\t6\t6\t6\t11\t"
          ]
        }
      ]
    },
    {
      "cell_type": "markdown",
      "source": [
        "# Ex 2.\n",
        "\n",
        "*   1 이상 4 이하 범위의 정수 난수 10개를 저장하는 리스트 gender_codes를 만들고 출력하세요.\n",
        "*   gender_codes의 값이 1 또는 3이면 'Male', 2 또는 4이면 'Female'을 저장하는 리스트 genders를 만들고 출력하세요.\n"
      ],
      "metadata": {
        "id": "eIo4Meam_hlu"
      }
    },
    {
      "cell_type": "code",
      "source": [
        "gender_codes = []\n",
        "for i in range(10):\n",
        "    gender_codes.append(random.randrange(1,5))\n",
        "gender_codes\n",
        "genders = ['Male' if x == 1 or x == 3 else 'Female' for x in gender_codes]\n",
        "genders"
      ],
      "metadata": {
        "id": "nKe5d72yHWkt",
        "outputId": "8436225f-2ebd-4ed5-9d0e-6cb9398115a1",
        "colab": {
          "base_uri": "https://localhost:8080/"
        }
      },
      "execution_count": 20,
      "outputs": [
        {
          "output_type": "execute_result",
          "data": {
            "text/plain": [
              "['Female',\n",
              " 'Male',\n",
              " 'Female',\n",
              " 'Male',\n",
              " 'Female',\n",
              " 'Male',\n",
              " 'Female',\n",
              " 'Male',\n",
              " 'Male',\n",
              " 'Female']"
            ]
          },
          "metadata": {},
          "execution_count": 20
        }
      ]
    },
    {
      "cell_type": "markdown",
      "source": [
        "# Ex 3.\n",
        "\n",
        "```\n",
        "m1 = [\n",
        "    [1, 2, 3],\n",
        "    [4, 5, 6]\n",
        "]\n",
        "m2 = [\n",
        "    [1, 1, 1],\n",
        "    [2, 2, 2]\n",
        "]\n",
        "```\n",
        "\n",
        "두 2차원 배열 m1, m2에서 같은 인덱스의 원소들끼리 뺄셈(m1 - m2) 결과를 저장하는 리스트를 만들고 출력하세요."
      ],
      "metadata": {
        "id": "9GK_1p78_wze"
      }
    },
    {
      "cell_type": "code",
      "source": [
        "dd1= []\n",
        "m1 = [\n",
        "    [1, 2, 3],\n",
        "    [4, 5, 6]\n",
        "]\n",
        "m2 = [\n",
        "    [1, 1, 1],\n",
        "    [2, 2, 2]\n",
        "]\n",
        "\n",
        "for x,y in zip(m1,m2):\n",
        "    dd1.append([a-b for a,b in zip(x,y)])\n",
        "dd1"
      ],
      "metadata": {
        "id": "8uYR7Y28JROl",
        "outputId": "bf8a9220-38ed-4a05-aee7-7361118a85ea",
        "colab": {
          "base_uri": "https://localhost:8080/"
        }
      },
      "execution_count": 23,
      "outputs": [
        {
          "output_type": "execute_result",
          "data": {
            "text/plain": [
              "[[0, 1, 2], [2, 3, 4]]"
            ]
          },
          "metadata": {},
          "execution_count": 23
        }
      ]
    },
    {
      "cell_type": "markdown",
      "source": [
        "# Ex 4.\n",
        "\n",
        "1 이상 10 이하의 정수 5개를 저장하는 리스트 scores를 만들고 출력하세요.\n"
      ],
      "metadata": {
        "id": "FmsK4gv5AZdn"
      }
    },
    {
      "cell_type": "code",
      "source": [
        "scores = [random.randrange(1,11) for i in range(5)]\n",
        "scores"
      ],
      "metadata": {
        "id": "iVkGw7kmKHhF",
        "outputId": "00087a37-f50a-47f1-f68a-e8a1d8c55345",
        "colab": {
          "base_uri": "https://localhost:8080/"
        }
      },
      "execution_count": 37,
      "outputs": [
        {
          "output_type": "execute_result",
          "data": {
            "text/plain": [
              "[5, 6, 6, 3, 10]"
            ]
          },
          "metadata": {},
          "execution_count": 37
        }
      ]
    },
    {
      "cell_type": "markdown",
      "source": [
        "# Ex 5.\n",
        "\n",
        "문제 4에서 만든 리스트 scores의 원소들의 합계를 계산하고 출력하세요.\n"
      ],
      "metadata": {
        "id": "myX9op_zAjjl"
      }
    },
    {
      "cell_type": "code",
      "source": [
        "total_score = sum(scores)\n",
        "print(total_score)"
      ],
      "metadata": {
        "id": "6iErV3WcLEzl",
        "outputId": "9d0b14be-5e12-4d27-de2f-d7ed102d00a2",
        "colab": {
          "base_uri": "https://localhost:8080/"
        }
      },
      "execution_count": 42,
      "outputs": [
        {
          "output_type": "stream",
          "name": "stdout",
          "text": [
            "30\n"
          ]
        }
      ]
    },
    {
      "cell_type": "markdown",
      "source": [
        "# Ex 6.\n",
        "\n",
        "문제 4에서 만든 리스트 scores의 원소들의 평균을 계산하고 출력하세요."
      ],
      "metadata": {
        "id": "RaJ44M7-Ash9"
      }
    },
    {
      "cell_type": "code",
      "source": [
        "avg_score = sum(scores)/len(scores)\n",
        "print(avg_score)"
      ],
      "metadata": {
        "id": "7dhTy8LJM54c",
        "outputId": "40bc8a1a-e7e8-441b-85cb-f7dfd547a546",
        "colab": {
          "base_uri": "https://localhost:8080/"
        }
      },
      "execution_count": 43,
      "outputs": [
        {
          "output_type": "stream",
          "name": "stdout",
          "text": [
            "6.0\n"
          ]
        }
      ]
    },
    {
      "cell_type": "markdown",
      "source": [
        "# Ex 7.\n",
        "\n",
        "문제 4에서 만든 리스트 scores의 원소들의 분산을 계산하고 출력하세요."
      ],
      "metadata": {
        "id": "bu6t8CBIAyeV"
      }
    },
    {
      "cell_type": "code",
      "source": [
        "var_score = np.var(scores)\n",
        "print(var_score)"
      ],
      "metadata": {
        "id": "7-s0e1HqM8cM",
        "outputId": "4837fd67-6215-4c95-beed-2c61d96afb6d",
        "colab": {
          "base_uri": "https://localhost:8080/"
        }
      },
      "execution_count": 54,
      "outputs": [
        {
          "output_type": "stream",
          "name": "stdout",
          "text": [
            "5.2\n"
          ]
        }
      ]
    },
    {
      "cell_type": "markdown",
      "source": [
        "# Ex 8.\n",
        "\n",
        "문제 4에서 만든 리스트 scores의 원소들의 표준편차를 계산하고 출력하세요."
      ],
      "metadata": {
        "id": "rWaFv-YoA1DF"
      }
    },
    {
      "cell_type": "code",
      "source": [
        "sqrt_score = np.sqrt(var_score)\n",
        "print(sqrt_score)"
      ],
      "metadata": {
        "id": "zloKIUtjM_VU",
        "outputId": "63c665b5-a745-4219-f0c0-e240ae642ed5",
        "colab": {
          "base_uri": "https://localhost:8080/"
        }
      },
      "execution_count": 56,
      "outputs": [
        {
          "output_type": "stream",
          "name": "stdout",
          "text": [
            "2.280350850198276\n"
          ]
        }
      ]
    },
    {
      "cell_type": "markdown",
      "source": [
        "# Ex 9.\n",
        "\n",
        "문제 4에서 만든 리스트 scores에서 최댓값을 찾고 출력하세요."
      ],
      "metadata": {
        "id": "xF8J5cdAA6K9"
      }
    },
    {
      "cell_type": "code",
      "source": [
        "max_score = max(scores)\n",
        "print(max_score)"
      ],
      "metadata": {
        "id": "E500EATtNY0k",
        "outputId": "4f2e2fba-8cb1-4df3-b5db-00325a45d651",
        "colab": {
          "base_uri": "https://localhost:8080/"
        }
      },
      "execution_count": 48,
      "outputs": [
        {
          "output_type": "stream",
          "name": "stdout",
          "text": [
            "10\n"
          ]
        }
      ]
    },
    {
      "cell_type": "markdown",
      "source": [
        "# Ex 10.\n",
        "\n",
        "문제 4에서 만든 리스트 scores에서 최솟값을 찾고 출력하세요."
      ],
      "metadata": {
        "id": "yjm0zhY-A-Ol"
      }
    },
    {
      "cell_type": "code",
      "source": [
        "min_score = min(scores)\n",
        "print(min_score)"
      ],
      "metadata": {
        "id": "dDdbLYM5NatE",
        "outputId": "e3e65632-2f7a-488c-9f84-1b0d67875c65",
        "colab": {
          "base_uri": "https://localhost:8080/"
        }
      },
      "execution_count": 49,
      "outputs": [
        {
          "output_type": "stream",
          "name": "stdout",
          "text": [
            "3\n"
          ]
        }
      ]
    },
    {
      "cell_type": "markdown",
      "source": [
        "*   리스트의 모든 원소의 합계\n",
        "\n",
        "$$\n",
        "sum = \\sum_{i = 1}^{n} x_i = x_1 + x_2 + ... + x_n\n",
        "$$\n",
        "\n",
        "*   리스트의 모든 원소의 평균(mean)\n",
        "\n",
        "$$\n",
        "\\bar{x} = \\frac{1}{n} \\sum_{i = 1}^{n} x_i\n",
        "$$\n",
        "\n",
        "*   리스트의 모든 원소의 분산(variance)\n",
        "\n",
        "$$\n",
        "var = \\frac{1}{n - 1} \\sum_{i = 1}^{n} (x_i - \\bar{x})^2\n",
        "$$\n",
        "\n",
        "*   리스트의 모든 원소의 표준편차(standard deviation)\n",
        "\n",
        "$$\n",
        "std = \\sqrt{var}\n",
        "    = \\sqrt{\\frac{1}{n - 1} \\sum_{i = 1}^{n} (x_i - \\bar{x})^2}\n",
        "$$"
      ],
      "metadata": {
        "id": "887FkRuDBG7l"
      }
    }
  ]
}